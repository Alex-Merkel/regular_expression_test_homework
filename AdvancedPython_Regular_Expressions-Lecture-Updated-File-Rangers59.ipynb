{
 "cells": [
  {
   "cell_type": "markdown",
   "metadata": {},
   "source": [
    "# Regular Expressions"
   ]
  },
  {
   "cell_type": "markdown",
   "metadata": {},
   "source": [
    "# Tasks today:\n",
    "1) <b>Importing</b> <br>\n",
    "2) <b>Using Regular Expressions</b> <br>\n",
    " &nbsp;&nbsp;&nbsp;&nbsp; a) re.compile() <br>\n",
    " &nbsp;&nbsp;&nbsp;&nbsp; b) re.match() <br>\n",
    " &nbsp;&nbsp;&nbsp;&nbsp; c) re.findall() <br>\n",
    " &nbsp;&nbsp;&nbsp;&nbsp; d) re.search() <br>\n",
    "3) <b>Sets</b> <br>\n",
    " &nbsp;&nbsp;&nbsp;&nbsp; a) Integer Ranges <br>\n",
    " &nbsp;&nbsp;&nbsp;&nbsp; b) Character Ranges <br>\n",
    "4) <b>Counting Occurences</b> <br>\n",
    " &nbsp;&nbsp;&nbsp;&nbsp; a) {x} <br>\n",
    " &nbsp;&nbsp;&nbsp;&nbsp; b) {, x} <br>\n",
    " &nbsp;&nbsp;&nbsp;&nbsp; c) {?} <br>\n",
    " &nbsp;&nbsp;&nbsp;&nbsp; d) {*} <br>\n",
    " &nbsp;&nbsp;&nbsp;&nbsp; e) {+} <br>\n",
    "5) <b>In-Class Exercise #1</b> <br>\n",
    "6) <b>Escaping Characters</b> <br>\n",
    "7) <b>Grouping</b> <br>\n",
    "8) <b>In-Class Exercise #2</b> <br>\n",
    "9) <b>Opening a File</b> <br>\n",
    " &nbsp;&nbsp;&nbsp;&nbsp; a) open() <br>\n",
    " &nbsp;&nbsp;&nbsp;&nbsp; b) with open() <br>\n",
    " &nbsp;&nbsp;&nbsp;&nbsp; c) re.match() <br>\n",
    " &nbsp;&nbsp;&nbsp;&nbsp; d) re.search() <br>\n",
    " &nbsp;&nbsp;&nbsp;&nbsp; e) Store the String in a Variable <br>\n",
    "10) <b>Regex Project</b> <br>"
   ]
  },
  {
   "cell_type": "markdown",
   "metadata": {},
   "source": [
    "### Importing <br>\n",
    "<p>Regular Expressions are universal throughout most programming languages... They are generally imported through the module 're'.</p>"
   ]
  },
  {
   "cell_type": "code",
   "execution_count": 1,
   "metadata": {},
   "outputs": [],
   "source": [
    "# ***Allows us to take strings and sort through them based off all kinds of stuff! ***Regex101 VERY HELPFUL WEBSITE***\n",
    "# ***REALLY USEFUL for filtering user input!! Ex: can filter out if numbers / emails are valid or not ***\n",
    "# **YOU HAVE TO IMPORT REGEX!! **\n",
    "import re"
   ]
  },
  {
   "cell_type": "markdown",
   "metadata": {},
   "source": [
    "### Using Regular Expressions <br>\n",
    "<p>***Regular expressions give us the ability to search for patterns within text, strings, files, etc. They serve several uses, such as; security measures, searching, filtering, pattern recognition, and more... ***</p>"
   ]
  },
  {
   "cell_type": "markdown",
   "metadata": {},
   "source": [
    "##### re.compile()"
   ]
  },
  {
   "cell_type": "code",
   "execution_count": 3,
   "metadata": {},
   "outputs": [
    {
     "name": "stdout",
     "output_type": "stream",
     "text": [
      "re.compile('abcd')\n"
     ]
    }
   ],
   "source": [
    "# **using compile, pre determines the string to be used in regular expression methods**\n",
    "\n",
    "# **This \"makes \"abcd\" available\" to be used in our Regex methods: **\n",
    "pattern = re.compile(\"abcd\")\n",
    "print(pattern)"
   ]
  },
  {
   "cell_type": "markdown",
   "metadata": {},
   "source": [
    "##### re.match()"
   ]
  },
  {
   "cell_type": "code",
   "execution_count": 5,
   "metadata": {},
   "outputs": [
    {
     "name": "stdout",
     "output_type": "stream",
     "text": [
      "<re.Match object; span=(0, 4), match='abcd'>\n",
      "(0, 4)\n"
     ]
    }
   ],
   "source": [
    "# ** Accessing the span of the match (seeing what matched in pattern): **ONLY THE SPAN, not the content/item**\n",
    "\n",
    "# ***This gives us answer of: <re.Match object; span=(0, 4), match='abcd'>. Which is basically saying index 0-4 match and it's abcd\n",
    "match = pattern.match(\"abcd123\")\n",
    "print(match)\n",
    "\n",
    "# **This will print the span that matches, which is index (0, 4) and is \"abcd\" : **\n",
    "print(match.span())\n",
    "\n",
    "# **This shows us the type of the span of match is a Tuple: **\n",
    "print(type(match.span()))"
   ]
  },
  {
   "cell_type": "markdown",
   "metadata": {},
   "source": [
    "##### re.findall()"
   ]
  },
  {
   "cell_type": "code",
   "execution_count": 7,
   "metadata": {},
   "outputs": [
    {
     "name": "stdout",
     "output_type": "stream",
     "text": [
      "['abcd', 'abcd', 'abcd']\n",
      "Help on function findall in module re:\n",
      "\n",
      "findall(pattern, string, flags=0)\n",
      "    Return a list of all non-overlapping matches in the string.\n",
      "    \n",
      "    If one or more capturing groups are present in the pattern, return\n",
      "    a list of groups; this will be a list of tuples if the pattern\n",
      "    has more than one group.\n",
      "    \n",
      "    Empty matches are included in the result.\n",
      "\n"
     ]
    }
   ],
   "source": [
    "# **USEFUL TOOl ** THIS RETURNS the ACTUAL content that matches (different than match() above!):**\n",
    "\n",
    "# ***This will print out a list of [\"abcd\", \"abcd\", \"abcd\"] since it was in our string 3 times: ***\n",
    "finders = pattern.findall(\"123abcd abcd123 abcd abcabc acb\")\n",
    "print(finders)\n",
    "# *Here is what findall() does:*\n",
    "help(re.findall)"
   ]
  },
  {
   "cell_type": "markdown",
   "metadata": {},
   "source": [
    "##### re.search()"
   ]
  },
  {
   "cell_type": "code",
   "execution_count": 12,
   "metadata": {},
   "outputs": [
    {
     "name": "stdout",
     "output_type": "stream",
     "text": [
      "<re.Match object; span=(12, 16), match='abcd'>\n",
      "(12, 16)\n",
      "abcd\n"
     ]
    }
   ],
   "source": [
    "# ***This gives us similar answer to re.match() above**** <re.Match object; span=(12, 16), match='abcd'>\n",
    "random_string = \"123 123 234 abcd abc\"\n",
    "search = pattern.search(random_string)\n",
    "print(search)\n",
    "\n",
    "# **This will print the span showing we have a match at index 12 through 16 which prints as a tuple: (12, 16)**\n",
    "span = search.span()\n",
    "print(span)\n",
    "\n",
    "# ****This returns: \"abcd\" because it's checking all? of the matching span found above? ****THIS IS BETTER THAN BELOW****\n",
    "print(random_string[span[0] : span[1]])\n",
    "# ****This ALSO returns: \"abcd\" because it's the matching span found above! ****ABOVE OPTION IS MORE RESPONSIVE!!****\n",
    "print(random_string[12:16])"
   ]
  },
  {
   "cell_type": "markdown",
   "metadata": {},
   "source": [
    "### Sets <br>\n",
    "<p>The following cells will allow you to use regular expressions to search for certain values within a range such as numbers 1 through 4.</p>"
   ]
  },
  {
   "cell_type": "markdown",
   "metadata": {},
   "source": [
    "##### [a-z] or [A-Z] - any lowercase/uppercase letters from a to z<br/>[^2] - anything that's not 2"
   ]
  },
  {
   "cell_type": "markdown",
   "metadata": {},
   "source": [
    "##### Integer Ranges"
   ]
  },
  {
   "cell_type": "code",
   "execution_count": 14,
   "metadata": {},
   "outputs": [
    {
     "name": "stdout",
     "output_type": "stream",
     "text": [
      "<re.Match object; span=(0, 1), match='6'>\n",
      "6\n",
      "<re.Match object; span=(0, 3), match='673'>\n",
      "673\n"
     ]
    }
   ],
   "source": [
    "# ***Sets/Regex good for \"any alphabetical letter that is lowercase, OR any alphabetical letter that is uppercase, ETC.\"\n",
    "# **This is taking the stuff we saved to re.compile \"abcd\" and saving it as variable down here: **\n",
    "# **This is saying the first character has to be between 0 and 7: **\n",
    "pattern_int = re.compile(\"[0-7]\")\n",
    "\n",
    "random_numbers = pattern_int.search(\"67383\")\n",
    "print(random_numbers)\n",
    "\n",
    "# **Difference between below two lines and above line is that below will return actual data aka \"what is in the span\": **\n",
    "span = random_numbers.span()\n",
    "# **This is only searching for the first item that is between 0-7, then it stops. This returns: 6 **\n",
    "print(random_numbers[span[0]])\n",
    "\n",
    "#  ***This is now searching for the first 3 digits, each one HAS to meet the parameter, couldn't have [0-7] next as it needs 8**\n",
    "pattern_int = re.compile(\"[0-7][7-9][0-3]\")\n",
    "random_numbers = pattern_int.search(\"67383\")\n",
    "print(random_numbers)\n",
    "span = random_numbers.span()\n",
    "print(random_numbers[span[0]])\n"
   ]
  },
  {
   "cell_type": "markdown",
   "metadata": {},
   "source": [
    "##### Character Ranges"
   ]
  },
  {
   "cell_type": "code",
   "execution_count": 17,
   "metadata": {},
   "outputs": [
    {
     "name": "stdout",
     "output_type": "stream",
     "text": [
      "['He', 'Mr', 'An']\n",
      "['He', 'An']\n",
      "['He']\n"
     ]
    }
   ],
   "source": [
    "# **This prints as: [\"He\", \"Mr\", \"An\"]: **\n",
    "char_pattern = re.compile('[A-Z][a-z]')\n",
    "\n",
    "found = char_pattern.findall('Hello there Mr. Anderson')\n",
    "print(found)\n",
    "\n",
    "\n",
    "# **This would get rid of \"Mr\" because M in Mr comes after L in [A-L]: **\n",
    "char_pattern = re.compile('[A-L][a-z]')\n",
    "\n",
    "found = char_pattern.findall('Hello there Mr. Anderson')\n",
    "print(found)\n",
    "\n",
    "# **This would get rid of \"An\" because n in Anderson comes after g in [a-g]: **\n",
    "char_pattern = re.compile('[A-L][a-g]')\n",
    "\n",
    "found = char_pattern.findall('Hello there Mr. Anderson')\n",
    "print(found)"
   ]
  },
  {
   "cell_type": "markdown",
   "metadata": {},
   "source": [
    "### Counting Occurences"
   ]
  },
  {
   "cell_type": "markdown",
   "metadata": {},
   "source": [
    "##### {x} - something that occurs {num_of_times}"
   ]
  },
  {
   "cell_type": "code",
   "execution_count": 18,
   "metadata": {},
   "outputs": [
    {
     "name": "stdout",
     "output_type": "stream",
     "text": [
      "['An33']\n"
     ]
    }
   ],
   "source": [
    "# **This is saying that there will be 2 occurances between 0-3 (using the {2} & [0-3]): \n",
    "char_pattern_count = re.compile('[A-Z][a-z][0-3]{2}')\n",
    "# **We are checking for all occurances of an uppercase letter followed by lowercase followed by 2 numbers between 0-3:**                                \n",
    "found_count = char_pattern_count.findall(\"Hello Mr. An33derson\")\n",
    "# *This will print as: ['An33']  *If we were to put \"An43derson\" above, it would return [] as the 4 isn't within 0-3:*\n",
    "print(found_count)\n",
    "                            "
   ]
  },
  {
   "cell_type": "markdown",
   "metadata": {},
   "source": [
    "##### {x, y} - something that occurs between x and y times"
   ]
  },
  {
   "cell_type": "code",
   "execution_count": 22,
   "metadata": {},
   "outputs": [
    {
     "name": "stdout",
     "output_type": "stream",
     "text": [
      "['m', 'm', 'm', 'mmm', 'mmmmm', 'm']\n"
     ]
    }
   ],
   "source": [
    "# **This is going to check between 1 & 5 times. If we wanted just 5 times, we could do like above and put {5}: **\n",
    "random_pattern = re.compile(\"m{1,5}\")\n",
    "random_statement = random_pattern.findall(\"This is an example of a regular expression trying to find one m, more than one mmm or five mmmmmms \")\n",
    "# *Prints as: ['m', 'm', 'm', 'mmm', 'mmmmm', 'm']. adds \"m\" at very end because we put 6 \"m\"'s in last part of sentence:*\n",
    "print(random_statement)"
   ]
  },
  {
   "cell_type": "markdown",
   "metadata": {},
   "source": [
    "##### ? - something that occurs 0 or 1 time"
   ]
  },
  {
   "cell_type": "code",
   "execution_count": 24,
   "metadata": {},
   "outputs": [
    {
     "name": "stdout",
     "output_type": "stream",
     "text": [
      "['Mrs', 'Mrss']\n"
     ]
    }
   ],
   "source": [
    "# ***The ? below is saying the prior letter \"s\" can happen either 0 OR 1 time. So Mrs AND Mrss will work here: ***\n",
    "pattern = re.compile(\"Mrss?\")\n",
    "# **This is looking in the below sentence for \"Mrs\" OR \"Mrss\" and printing out what it finds: **\n",
    "found_pat = pattern.findall(\"Hello M there Mr. Anderson, Mid how is Mrs.Anderson and Mrss.Anderson?\")\n",
    "print(found_pat)\n"
   ]
  },
  {
   "cell_type": "markdown",
   "metadata": {},
   "source": [
    "##### * - something that occurs at least 0 times"
   ]
  },
  {
   "cell_type": "code",
   "execution_count": 26,
   "metadata": {},
   "outputs": [
    {
     "name": "stdout",
     "output_type": "stream",
     "text": [
      "['MMMs', 's', 'Ms', 's', 's', 'Ms', 's', 's', 's', 's', 's', 's']\n",
      "['Msss', 'sss']\n"
     ]
    }
   ],
   "source": [
    "# ***Star below applying to item before it, \"M\" will happen AT LEAST 0 times: ***\n",
    "# ***Basically makes the \"M\" optional but will return back however many there are:***\n",
    "pattern_m = re.compile(\"M*s\")\n",
    "\n",
    "# **This will print out every s that does/doesn't have M in front: ['MMMs', 's', 'Ms', 's', 's', 'Ms', 's', 's', 's', 's', 's', 's'] **\n",
    "# **Note: It brought back each \"s\" in \"Msssssss\" SEPERATELY: **\n",
    "found_m = pattern_m.findall(\"MMMs name is Ms.Smith. This is Msssssss\")\n",
    "print(found_m)\n",
    "\n",
    "\n",
    "# **We could do what we did above, but just ones that have multiple, specifically 3: **\n",
    "pattern_m = re.compile(\"M*s{3}\")\n",
    "\n",
    "# **This will print every \"sss\" that DOES & DOESN'T have M in front: ['Msss, 'sss'] (All from last word \"Msssssss\") **\n",
    "found_m = pattern_m.findall(\"MMMs name is Ms.Smith. This is Msssssss\")\n",
    "print(found_m)"
   ]
  },
  {
   "cell_type": "markdown",
   "metadata": {},
   "source": [
    "##### + - something that occurs at least once"
   ]
  },
  {
   "cell_type": "code",
   "execution_count": 28,
   "metadata": {},
   "outputs": [
    {
     "name": "stdout",
     "output_type": "stream",
     "text": [
      "['MMMs', 'Ms', 'Ms']\n"
     ]
    }
   ],
   "source": [
    "# ***This is saying the \"M\" before the \"+\" and the \"s\" HAS to happen AT LEAST ONCE: ***\n",
    "pattern_again = re.compile('M+s')\n",
    "\n",
    "# **This will print every \"Ms\" that DOES & DOESN'T have more than 1 \"M\" in front: ['MMMs', 'Ms', 'Ms'] (Last \"Ms\" is from \"Msssssss\") **\n",
    "found_patt = pattern_again.findall(\"MMMs name M is Ms.Smith. This is Msssssss\")\n",
    "print(found_patt)"
   ]
  },
  {
   "cell_type": "markdown",
   "metadata": {},
   "source": [
    "##### In-class exercise 1: \n",
    "\n",
    "Use a regular expression to find every number in the given string"
   ]
  },
  {
   "cell_type": "code",
   "execution_count": 43,
   "metadata": {},
   "outputs": [
    {
     "name": "stdout",
     "output_type": "stream",
     "text": [
      "['10909090', '1', '2']\n"
     ]
    }
   ],
   "source": [
    "another_pattern = re.compile(\"[0-9]{1,8}\")\n",
    "\n",
    "# my_string = \"This string has 10909090 numbers, but it is only 1 string. I hope you solve this 2day.\"\n",
    "another_found_pattern = another_pattern.findall(\"This string has 10909090 numbers, but it is only 1 string. I hope you solve this 2day.\")\n",
    "\n",
    "print(another_found_pattern)\n",
    "# Output: ['10909090', '1', 2]\n"
   ]
  },
  {
   "cell_type": "markdown",
   "metadata": {},
   "source": [
    "### Escaping Characters"
   ]
  },
  {
   "cell_type": "markdown",
   "metadata": {},
   "source": [
    "##### \\w - look for any Unicode character<br/>\\W - look for anything that isnt a Unicode character\n",
    "\n",
    "[History on Unicode](http://unicode.org/standard/WhatIsUnicode.html)\n",
    "\n",
    "[More on Unicode Characters](https://en.wikipedia.org/wiki/List_of_Unicode_characters)"
   ]
  },
  {
   "cell_type": "code",
   "execution_count": 45,
   "metadata": {},
   "outputs": [
    {
     "name": "stdout",
     "output_type": "stream",
     "text": [
      "['This', 'is', 'a', 'sentence', 'With', 'an', 'exclamation', 'mark', 'at', 'the', 'end']\n",
      "[' ', ' ', ' ', '. ', ', ', ' ', ' ', ' ', ' ', ' ', '!']\n"
     ]
    }
   ],
   "source": [
    "# ***Unicode characters can be a lot, review!! ***Emoji's are/can be unicode too!***\n",
    "# ***Going to take x and let it escape what it was doing before to do y: ***\n",
    "pattern_1 = re.compile(\"[\\w]+\")\n",
    "pattern_2 = re.compile(\"[\\W]+\")\n",
    "\n",
    "found_1 = pattern_1.findall(\"This is a sentence. With, an exclamation mark at the end!\")\n",
    "found_2 = pattern_2.findall(\"This is a sentence. With, an exclamation mark at the end!\")\n",
    "# **This prints each word without spacing or punctuation marks: **\n",
    "print(found_1)\n",
    "# **This returns spaces, commas, and the exclamation mark: **\n",
    "print(found_2)"
   ]
  },
  {
   "cell_type": "markdown",
   "metadata": {},
   "source": [
    "##### \\d - look for any digit 0-9<br/>\\D - look for anything that isnt a digit"
   ]
  },
  {
   "cell_type": "code",
   "execution_count": 48,
   "metadata": {},
   "outputs": [
    {
     "name": "stdout",
     "output_type": "stream",
     "text": [
      "['7th', '20da', '27th', '3rd', '1st', '30th']\n"
     ]
    }
   ],
   "source": [
    "pattern_nums = re.compile('\\d{1,2}[a-z]{2}')\n",
    "\n",
    "# **This is taking the 1st and second (if there is one) number and the two letters after it. Getting days of the month: **\n",
    "found_date = pattern_nums.findall(\"Today is the 7th, in 20days it will be the 27th. 3rd, 1st,30th\")\n",
    "print(found_date)"
   ]
  },
  {
   "cell_type": "markdown",
   "metadata": {},
   "source": [
    "##### \\s - look for any white space<br/>\\S - look for anything that isnt whitespace"
   ]
  },
  {
   "cell_type": "code",
   "execution_count": 51,
   "metadata": {},
   "outputs": [
    {
     "name": "stdout",
     "output_type": "stream",
     "text": [
      "[' ', ' ', ' ', ' ', ' ']\n",
      "['Are', 'you', 'afraid', 'of', 'the', 'dark']\n"
     ]
    }
   ],
   "source": [
    "# ***Allows us to have as many a-z characters as we want, as long as we have AT LEAST ONE: ***\n",
    "# **Below's [a-z] is asking for ONLY the alphabetical items from string, NOT punction / spaces **\n",
    "pattern_no_space = re.compile(\"\\S[a-z]+\")\n",
    "# **Same as above, but includes the next NON-unicode char. Returns each word with next char (often spaces, also the \"?\")**\n",
    "# pattern_no_space = re.compile(\"\\S[a-z]+[\\W]*\")\n",
    "# ***Allows us to have as many spaces as we want, as long as we have AT LEAST ONE: ***\n",
    "pattern_space = re.compile(\"\\s+\")\n",
    "\n",
    "# ***This gets us all the spaces in our string. *** DOESN'T return punction, ONLY spaces! ***\n",
    "found_space = pattern_space.findall(\"Are you afraid of the dark?\")\n",
    "print(found_space)\n",
    "\n",
    "# **This gets all of our words seperated from the rest of our string (spaces, and punction): **\n",
    "found_dark = pattern_no_space.findall(\"Are you afraid of the dark?\")\n",
    "print(found_dark)"
   ]
  },
  {
   "cell_type": "markdown",
   "metadata": {},
   "source": [
    "##### \\b - look for boundaries or edges of a word<br/>\\B - look for anything that isnt a boundary"
   ]
  },
  {
   "cell_type": "code",
   "execution_count": 55,
   "metadata": {},
   "outputs": [
    {
     "name": "stdout",
     "output_type": "stream",
     "text": [
      "[]\n",
      "['TheCodingTemple']\n"
     ]
    }
   ],
   "source": [
    "# ** R-line below is for rostering. It takes the string as raw text (would normally create new line \"\\n\" in none R-lines): **\n",
    "pattern_bound = re.compile(r'\\bTheCodingTemple')\n",
    "pattern_bound_none = re.compile(r'\\BTheCodingTemple')\n",
    "# **This will print out as [] since it's looking for what isn't a boundary and there are none in this string: **               \n",
    "no_found_bound = pattern_bound_none.findall(\"TheCodingTemple\")\n",
    "print(no_found_bound)\n",
    "# **This will print out as ['TheCodingTemple'] as raw text: **\n",
    "found_bound = pattern_bound.findall(\"TheCodingTemple\")\n",
    "print(found_bound)"
   ]
  },
  {
   "cell_type": "markdown",
   "metadata": {},
   "source": [
    "### Grouping"
   ]
  },
  {
   "cell_type": "code",
   "execution_count": 59,
   "metadata": {},
   "outputs": [
    {
     "name": "stdout",
     "output_type": "stream",
     "text": [
      "[('Max', 'Smith'), ('Sam', 'Darnold'), ('LeBron', 'James'), ('Michael', 'Jordan'), ('Kevin', 'Durant'), ('Patrick', 'McCormick')]\n",
      "('Max', 'Smith')\n",
      "Not a name\n",
      "('Sam', 'Darnold')\n",
      "('LeBron', 'James')\n",
      "('Michael', 'Jordan')\n",
      "('Kevin', 'Durant')\n",
      "('Patrick', 'McCormick')\n"
     ]
    }
   ],
   "source": [
    "# **Connecting things and seperating some stuff, Brandon's words**\n",
    "\n",
    "# ****Below string has capitals, lowercase, no spaces, etc. (Things that users gave us and we can sort through)****\n",
    "my_string_again = \"Max Smith, aaron rodgers, Sam Darnold,LeBron James, Michael Jordan, Kevin Durant, Patrick McCormick\"\n",
    "\n",
    "# Group of names Regex compiler\n",
    "# **Below line is getting first capital letter then lowercase, then another uppercase (for Patrick McCormick's last name) \n",
    "# and then lowercase for anthing after with the + at the end (will miss aaron rodgers): **\n",
    "pattern_name = re.compile(\"([A-Z][a-zA-Za-z]+) ([A-Z][A-Za-z]+)\")\n",
    "found_names = pattern_name.findall(my_string_again)\n",
    "# **This prints each name EXCEPT \"aaron rodgers\" (because we'd need capital A AND R) as tuples:**\n",
    "print(found_names)\n",
    "\n",
    "# **Brings back a LIST whenever you .split(): **\n",
    "# **Below line is saying \"for every iteration, take the name and return as (\"First\", \"Last\") ASSUMING it meets above\n",
    "# compiling rules we set!! aaron rodgers will return as Not a name: **\n",
    "for name in my_string_again.split(\",\"):\n",
    "    match = pattern_name.search(name)\n",
    "    \n",
    "#   **This is AUTOMATICALLY TRUE and we don't have to say \"is\" \"=\" \"==\" True \n",
    "#     (Truphie - True because it's there (if this were to return \"None\" or an error, it wouldn't execute)):**\n",
    "#   **Will sort into 2 groups, First and Last names and print each iteration: **\n",
    "    if match:\n",
    "        print(match.groups(2))\n",
    "    else:\n",
    "        print(\"Not a name\")\n",
    "    "
   ]
  },
  {
   "cell_type": "markdown",
   "metadata": {},
   "source": [
    "##### In-class Exercise 2:\n",
    "\n",
    "Write a function using regular expressions to find the domain name in the given email addresses (and return None for the invalid email addresses)<br><b>HINT: Use '|' for either or</b>"
   ]
  },
  {
   "cell_type": "code",
   "execution_count": 131,
   "metadata": {},
   "outputs": [
    {
     "name": "stdout",
     "output_type": "stream",
     "text": [
      "None\n",
      "pocohontas1776@gmail.com\n",
      "None\n",
      "yourfavoriteband@g6.org\n",
      "None\n"
     ]
    }
   ],
   "source": [
    "import re\n",
    "\n",
    "my_emails = [\"jordanw@codingtemple.orgcom\", \"pocohontas1776@gmail.com\", \"helloworld@aol..com\",\n",
    "             \"yourfavoriteband@g6.org\", \"@codingtemple.com\"]\n",
    "\n",
    "pattern_email = re.compile(r\"([\\w]+[@][\\w]+\\.(com|org)\\b)\")\n",
    "\n",
    "# You can also use the $ at the end of your compile expression -- this stops the search\n",
    "#.com OR .org => com|org\n",
    "\n",
    "for i in my_emails:\n",
    "    valid = pattern_email.findall(i)\n",
    "    \n",
    "    if valid:\n",
    "        print(valid[0][0])\n",
    "    else:\n",
    "        print(\"None\")\n",
    "        \n",
    "        \n",
    "\n",
    "#Expected output:\n",
    "#None\n",
    "#pocohontas1776@gmail.com\n",
    "#None\n",
    "#yourfavoriteband@g6.org\n",
    "#None\n",
    "\n",
    "\n"
   ]
  },
  {
   "cell_type": "markdown",
   "metadata": {},
   "source": [
    "### Opening a File <br>\n",
    "<p>Python gives us a couple ways to import files, below are the two used most often.</p>"
   ]
  },
  {
   "cell_type": "markdown",
   "metadata": {},
   "source": [
    "##### open()"
   ]
  },
  {
   "cell_type": "code",
   "execution_count": 134,
   "metadata": {},
   "outputs": [
    {
     "name": "stdout",
     "output_type": "stream",
     "text": [
      "Hawkins, Derek\tderek@codingtemple.com\t(555) 555-5555\tTeacher, Coding Temple\t@derekhawkins\n",
      "Zhai, Mo\tmozhai@codingtemple.com\t(555) 555-5554\tTeacher, Coding Temple\n",
      "Johnson, Joe\tjoejohnson@codingtemple.com\t\tJohson, Joe\n",
      "Osterberg, Sven-Erik\tgovernor@norrbotten.co.se\t\tGovernor, Norrbotten\t@sverik\n",
      ", Tim\ttim@killerrabbit.com\t\tEnchanter, Killer Rabbit Cave\n",
      "Butz, Ryan\tryanb@codingtemple.com\t(555) 555-5543\tCEO, Coding Temple\t@ryanbutz\n",
      "Doctor, The\tdoctor+companion@tardis.co.uk\t\tTime Lord, Gallifrey\n",
      "Exampleson, Example\tme@example.com\t555-555-5552\tExample, Example Co.\t@example\n",
      "Pael, Ripal\tripalp@codingtemple.com\t(555) 555-5553\tTeacher, Coding Temple\t@ripalp\n",
      "Vader, Darth\tdarth-vader@empire.gov\t(555) 555-4444\tSith Lord, Galactic Empire\t@darthvader\n",
      "Fernandez de la Vega Sanz, Maria Teresa\tmtfvs@spain.gov\t\tFirst Deputy Prime Minister, Spanish Gov\n",
      "\n"
     ]
    }
   ],
   "source": [
    "# **\"names.txt\" is wherever your item exists in your PC (AS LONG AS name.txt is in same folder, don't have to have files/names.txt): **\n",
    "f = open(\"names.txt\")\n",
    "\n",
    "data = f.read()\n",
    "\n",
    "print(data)\n",
    "# *Below lets us use next node of \"with open() by closing out f.read() up here: *\"\n",
    "f.close()"
   ]
  },
  {
   "cell_type": "markdown",
   "metadata": {},
   "source": [
    "##### with open()"
   ]
  },
  {
   "cell_type": "code",
   "execution_count": 136,
   "metadata": {},
   "outputs": [
    {
     "name": "stdout",
     "output_type": "stream",
     "text": [
      "Hawkins, Derek\tderek@codingtemple.com\t(555) 555-5555\tTeacher, Coding Temple\t@derekhawkins\n",
      "Zhai, Mo\tmozhai@codingtemple.com\t(555) 555-5554\tTeacher, Coding Temple\n",
      "Johnson, Joe\tjoejohnson@codingtemple.com\t\tJohson, Joe\n",
      "Osterberg, Sven-Erik\tgovernor@norrbotten.co.se\t\tGovernor, Norrbotten\t@sverik\n",
      ", Tim\ttim@killerrabbit.com\t\tEnchanter, Killer Rabbit Cave\n",
      "Butz, Ryan\tryanb@codingtemple.com\t(555) 555-5543\tCEO, Coding Temple\t@ryanbutz\n",
      "Doctor, The\tdoctor+companion@tardis.co.uk\t\tTime Lord, Gallifrey\n",
      "Exampleson, Example\tme@example.com\t555-555-5552\tExample, Example Co.\t@example\n",
      "Pael, Ripal\tripalp@codingtemple.com\t(555) 555-5553\tTeacher, Coding Temple\t@ripalp\n",
      "Vader, Darth\tdarth-vader@empire.gov\t(555) 555-4444\tSith Lord, Galactic Empire\t@darthvader\n",
      "Fernandez de la Vega Sanz, Maria Teresa\tmtfvs@spain.gov\t\tFirst Deputy Prime Minister, Spanish Gov\n",
      "\n"
     ]
    }
   ],
   "source": [
    "with open(\"names.txt\") as f:\n",
    "    data = f.read()\n",
    "    \n",
    "print(data)"
   ]
  },
  {
   "cell_type": "markdown",
   "metadata": {},
   "source": [
    "##### re.match()"
   ]
  },
  {
   "cell_type": "code",
   "execution_count": 137,
   "metadata": {},
   "outputs": [
    {
     "name": "stdout",
     "output_type": "stream",
     "text": [
      "<re.Match object; span=(0, 14), match='Hawkins, Derek'>\n"
     ]
    }
   ],
   "source": [
    "# **Looking in data for the raw string of \"Hawkins, Derek\": ***\n",
    "# **Prints as: <re.Match object; span=(0, 14), match='Hawkins, Derek'> (Basically saying, something matches, here is location):**\n",
    "print(re.match(r'Hawkins, Derek', data))"
   ]
  },
  {
   "cell_type": "markdown",
   "metadata": {},
   "source": [
    "##### re.search()"
   ]
  },
  {
   "cell_type": "code",
   "execution_count": 138,
   "metadata": {},
   "outputs": [
    {
     "name": "stdout",
     "output_type": "stream",
     "text": [
      "<re.Match object; span=(582, 605), match='ripalp@codingtemple.com'>\n"
     ]
    }
   ],
   "source": [
    "# **Does same things as above (returns:<re.Match object; span=(582, 605), match='ripalp@codingtemple.com'>): **\n",
    "print(re.search(r'ripalp@codingtemple.com', data))"
   ]
  },
  {
   "cell_type": "markdown",
   "metadata": {},
   "source": [
    "##### Store the String to a Variable"
   ]
  },
  {
   "cell_type": "code",
   "execution_count": 141,
   "metadata": {},
   "outputs": [
    {
     "name": "stdout",
     "output_type": "stream",
     "text": [
      "What would you like to search for? Sith Lord\n",
      "I found your data: ['Sith Lord']\n"
     ]
    }
   ],
   "source": [
    "answer = input(\"What would you like to search for? \")\n",
    "\n",
    "# **Below is saying, findall will search all of our data for whatever answer we put in there and see if it's in there:**\n",
    "found = re.findall(answer, data)\n",
    "# *If below is empty (none, etc.), then it won't be true. Below is AUTOMATICALLY true unless there is NO value:*\n",
    "if found:\n",
    "    print(f'I found your data: {found}')\n",
    "else:\n",
    "    print(\"Nothing here.\")"
   ]
  },
  {
   "cell_type": "markdown",
   "metadata": {},
   "source": [
    "### In-Class Exercise #3 <br>\n",
    "<p>Print each persons name and twitter handle, using groups, should look like:</p>\n",
    "<p>==============<br>\n",
    "   Full Name / Twitter<br>\n",
    "   ==============</p>\n",
    "Derek Hawkins / @derekhawkins\n",
    "\n",
    " Erik Sven-Osterberg / @sverik\n",
    "\n",
    " Ryan Butz / @ryanbutz\n",
    "\n",
    " Example Exampleson / @example\n",
    "\n",
    " Ripal Pael / @ripalp\n",
    "\n",
    " Darth Vader / @darthvader"
   ]
  },
  {
   "cell_type": "code",
   "execution_count": 150,
   "metadata": {
    "scrolled": true
   },
   "outputs": [
    {
     "name": "stdout",
     "output_type": "stream",
     "text": [
      "['Hawkins, Derek\\tderek@codingtemple.com\\t(555) 555-5555\\tTeacher, Coding Temple\\t@derekhawkins\\n', 'Zhai, Mo\\tmozhai@codingtemple.com\\t(555) 555-5554\\tTeacher, Coding Temple\\n', 'Johnson, Joe\\tjoejohnson@codingtemple.com\\t\\tJohson, Joe\\n', 'Osterberg, Sven-Erik\\tgovernor@norrbotten.co.se\\t\\tGovernor, Norrbotten\\t@sverik\\n', ', Tim\\ttim@killerrabbit.com\\t\\tEnchanter, Killer Rabbit Cave\\n', 'Butz, Ryan\\tryanb@codingtemple.com\\t(555) 555-5543\\tCEO, Coding Temple\\t@ryanbutz\\n', 'Doctor, The\\tdoctor+companion@tardis.co.uk\\t\\tTime Lord, Gallifrey\\n', 'Exampleson, Example\\tme@example.com\\t555-555-5552\\tExample, Example Co.\\t@example\\n', 'Pael, Ripal\\tripalp@codingtemple.com\\t(555) 555-5553\\tTeacher, Coding Temple\\t@ripalp\\n', 'Vader, Darth\\tdarth-vader@empire.gov\\t(555) 555-4444\\tSith Lord, Galactic Empire\\t@darthvader\\n', 'Fernandez de la Vega Sanz, Maria Teresa\\tmtfvs@spain.gov\\t\\tFirst Deputy Prime Minister, Spanish Gov\\n']\n",
      "\n",
      " Derek Hawkins / @derekhawkins\n",
      "\n",
      " Erik Sven-Osterberg / @sverik\n",
      "\n",
      " Ryan Butz / @ryanbutz\n",
      "\n",
      " Example Exampleson / @example\n",
      "\n",
      " Ripal Pael / @ripalp\n",
      "\n",
      " Darth Vader / @darthvader\n"
     ]
    }
   ],
   "source": [
    "# ***Hints: Find items, isolate them, and put them back in place a bit, using groupings:***\n",
    "# ***Hint: Use .group()***\n",
    "# name_pattern = re.compile(\"([A-Z][a-z]+), ([\\w -]*)([A-Z][a-z]+).*((\\B[@].*)+)\")\n",
    "# twitter_pattern = re.compile(\"[]\")\n",
    "with open(\"names.txt\") as f:\n",
    "    data = f.readlines()\n",
    "\n",
    "name_pattern = re.compile(\"([A-Z][a-z]+), ([\\w -]*)([A-Z][a-z]+).*((\\B[@].*)+)\")\n",
    "\n",
    "for person in data:\n",
    "    match = name_pattern.search(person)\n",
    "    \n",
    "    if match:\n",
    "        print(\"\\n\", f'{match.group(3)} {match.group(2)}{match.group(1)} / {match.group(4)}')"
   ]
  },
  {
   "cell_type": "markdown",
   "metadata": {},
   "source": [
    "### Regex project\n",
    "\n",
    "Use python to read the file regex_test.txt and print the last name on each line using regular expressions and groups (return None for names with no first and last name, or names that aren't properly capitalized)\n",
    "##### Hint: use with open() and readlines()"
   ]
  },
  {
   "cell_type": "code",
   "execution_count": 206,
   "metadata": {},
   "outputs": [
    {
     "name": "stdout",
     "output_type": "stream",
     "text": [
      "Abraham  Lincoln\n",
      "Andrew P Garfield\n",
      "Connor  Milliken\n",
      "Jordan Alexander Williams\n",
      "None\n",
      "None\n"
     ]
    }
   ],
   "source": [
    "\"\"\"\n",
    "Expected Output\n",
    "Abraham Lincoln\n",
    "Andrew P Garfield\n",
    "Connor Milliken\n",
    "Jordan Alexander Williams\n",
    "None\n",
    "None\n",
    "\"\"\"\n",
    "\n",
    "with open(\"regex_test.txt\") as f:\n",
    "    data = f.readlines()\n",
    "\n",
    "last_pattern = re.compile(\"([A-Z][a-z]+)[ ]*(([A-Z]?[a-z]?)*)?[ ]*([A-Z][a-z]+)\")\n",
    "\n",
    "for named_person in data:\n",
    "    match = last_pattern.search(named_person)\n",
    "    \n",
    "    if match:\n",
    "        print(f'{match.group(1)} {match.group(2)} {match.group(4)}')\n",
    "    else:\n",
    "        print(\"None\")"
   ]
  },
  {
   "cell_type": "code",
   "execution_count": null,
   "metadata": {},
   "outputs": [],
   "source": []
  }
 ],
 "metadata": {
  "kernelspec": {
   "display_name": "Python 3 (ipykernel)",
   "language": "python",
   "name": "python3"
  },
  "language_info": {
   "codemirror_mode": {
    "name": "ipython",
    "version": 3
   },
   "file_extension": ".py",
   "mimetype": "text/x-python",
   "name": "python",
   "nbconvert_exporter": "python",
   "pygments_lexer": "ipython3",
   "version": "3.9.13"
  }
 },
 "nbformat": 4,
 "nbformat_minor": 2
}
